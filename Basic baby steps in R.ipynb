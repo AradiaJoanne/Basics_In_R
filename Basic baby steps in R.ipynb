{
 "cells": [
  {
   "cell_type": "markdown",
   "id": "18684373",
   "metadata": {},
   "source": [
    "# Basic Principles in R Practice<br>\n",
    "\n",
    "This notebook will demonstrate my basic abilities in R and will be updated as I learn more. This is a work in progress of something I have used previously. "
   ]
  },
  {
   "cell_type": "markdown",
   "id": "32465d5f",
   "metadata": {},
   "source": [
    "### What is R? <br>\n",
    "R is a programming language that is mainly used for statistical analysis and vizualization. It is a widely used language within the data science field so it is important to take the steps to learn it. "
   ]
  },
  {
   "cell_type": "code",
   "execution_count": 1,
   "id": "5c659299",
   "metadata": {},
   "outputs": [
    {
     "name": "stdout",
     "output_type": "stream",
     "text": [
      "[1] \"Hello World\"\n"
     ]
    }
   ],
   "source": [
    "#As with anything, start with a hello world \n",
    "print('Hello World')"
   ]
  },
  {
   "cell_type": "code",
   "execution_count": 2,
   "id": "e21df808",
   "metadata": {},
   "outputs": [],
   "source": [
    "#Creating variables, you can use an = or <- for storing the data in the var\n",
    "var1 = 'Some Words'\n",
    "var2 <- 'Other Words'"
   ]
  },
  {
   "cell_type": "code",
   "execution_count": 3,
   "id": "53faa224",
   "metadata": {},
   "outputs": [
    {
     "name": "stdout",
     "output_type": "stream",
     "text": [
      "[1] \"Some Words\"\n"
     ]
    }
   ],
   "source": [
    "#You can then do things like print the variable to see what is inisde of it. \n",
    "print(var1)"
   ]
  },
  {
   "cell_type": "code",
   "execution_count": 4,
   "id": "61a4eab3",
   "metadata": {},
   "outputs": [
    {
     "data": {
      "text/html": [
       "10"
      ],
      "text/latex": [
       "10"
      ],
      "text/markdown": [
       "10"
      ],
      "text/plain": [
       "[1] 10"
      ]
     },
     "metadata": {},
     "output_type": "display_data"
    }
   ],
   "source": [
    "#You can count the number of characters in a var\n",
    "nchar(var1)"
   ]
  },
  {
   "cell_type": "code",
   "execution_count": 5,
   "id": "93ddb0bd",
   "metadata": {},
   "outputs": [
    {
     "data": {
      "text/html": [
       "<ol class=list-inline>\n",
       "\t<li>'Some Words'</li>\n",
       "\t<li>'Other Words'</li>\n",
       "</ol>\n"
      ],
      "text/latex": [
       "\\begin{enumerate*}\n",
       "\\item 'Some Words'\n",
       "\\item 'Other Words'\n",
       "\\end{enumerate*}\n"
      ],
      "text/markdown": [
       "1. 'Some Words'\n",
       "2. 'Other Words'\n",
       "\n",
       "\n"
      ],
      "text/plain": [
       "[1] \"Some Words\"  \"Other Words\""
      ]
     },
     "metadata": {},
     "output_type": "display_data"
    }
   ],
   "source": [
    "#And you can also concat strings using c()\n",
    "c(var1, var2)"
   ]
  },
  {
   "cell_type": "markdown",
   "id": "04f48079",
   "metadata": {},
   "source": [
    "So above is super basic stuff and it seems to be fairly similar to other languages I have used. Obviously there are more data types than just a string so I will taka a look at these now. "
   ]
  },
  {
   "cell_type": "code",
   "execution_count": 6,
   "id": "e66a3ac1",
   "metadata": {},
   "outputs": [
    {
     "name": "stdout",
     "output_type": "stream",
     "text": [
      " chr \"Some Words\"\n",
      " num 1\n",
      " chr \"abc\"\n",
      " num 0.1\n"
     ]
    }
   ],
   "source": [
    "#Str is type checking here and not specifying that it is a string. \n",
    "str(var1)\n",
    "str(1)\n",
    "str('abc')\n",
    "str(0.1)"
   ]
  },
  {
   "cell_type": "code",
   "execution_count": 7,
   "id": "fcdb5b88",
   "metadata": {},
   "outputs": [
    {
     "data": {
      "text/html": [
       "'character'"
      ],
      "text/latex": [
       "'character'"
      ],
      "text/markdown": [
       "'character'"
      ],
      "text/plain": [
       "[1] \"character\""
      ]
     },
     "metadata": {},
     "output_type": "display_data"
    },
    {
     "data": {
      "text/html": [
       "'numeric'"
      ],
      "text/latex": [
       "'numeric'"
      ],
      "text/markdown": [
       "'numeric'"
      ],
      "text/plain": [
       "[1] \"numeric\""
      ]
     },
     "metadata": {},
     "output_type": "display_data"
    },
    {
     "data": {
      "text/html": [
       "'character'"
      ],
      "text/latex": [
       "'character'"
      ],
      "text/markdown": [
       "'character'"
      ],
      "text/plain": [
       "[1] \"character\""
      ]
     },
     "metadata": {},
     "output_type": "display_data"
    }
   ],
   "source": [
    "#class can be used to check the data types too \n",
    "var1 = 'A string'\n",
    "var2 = 123\n",
    "var3 = '1'\n",
    "class(var1)\n",
    "class(var2)\n",
    "class(var3)"
   ]
  },
  {
   "cell_type": "code",
   "execution_count": 8,
   "id": "0846909c",
   "metadata": {},
   "outputs": [
    {
     "data": {
      "text/html": [
       "10"
      ],
      "text/latex": [
       "10"
      ],
      "text/markdown": [
       "10"
      ],
      "text/plain": [
       "[1] 10"
      ]
     },
     "metadata": {},
     "output_type": "display_data"
    },
    {
     "data": {
      "text/html": [
       "'numeric'"
      ],
      "text/latex": [
       "'numeric'"
      ],
      "text/markdown": [
       "'numeric'"
      ],
      "text/plain": [
       "[1] \"numeric\""
      ]
     },
     "metadata": {},
     "output_type": "display_data"
    }
   ],
   "source": [
    "#Just because we have used a number in var3 it has been stored as a string, so to be able to use it we need to do a \n",
    "#type conversion on it \n",
    "a = 5\n",
    "b = '2'\n",
    "#a*b #Trying to use it results in: Error in a * b: non-numeric argument to binary operator\n",
    "a * as.numeric(b)\n",
    "#So this lets us do the multiplicaton however it is still a chr as the type conversion needs saving \n",
    "b = as.numeric(b)\n",
    "#Check type \n",
    "class(b)"
   ]
  },
  {
   "cell_type": "markdown",
   "id": "b0cd1038",
   "metadata": {},
   "source": [
    "So that works, but maybe some error handling is needed in case we are trying to convert something that cannot be converted"
   ]
  },
  {
   "cell_type": "code",
   "execution_count": 9,
   "id": "27a3d634",
   "metadata": {},
   "outputs": [
    {
     "ename": "ERROR",
     "evalue": "Error in parse(text = x, srcfile = src): <text>:2:3: unexpected string constant\n19:     }\n20: )'\n      ^\n",
     "output_type": "error",
     "traceback": [
      "Error in parse(text = x, srcfile = src): <text>:2:3: unexpected string constant\n19:     }\n20: )'\n      ^\nTraceback:\n"
     ]
    }
   ],
   "source": [
    "#TryCatch\n",
    "'''result = tryCatch\n",
    "(\n",
    "    {\n",
    "        expression = function(w)\n",
    "            {\n",
    "            warning-handler-code\n",
    "        },\n",
    "        \n",
    "        error = function(e)\n",
    "            {\n",
    "            error-handler-code\n",
    "        },\n",
    "        \n",
    "        finally = \n",
    "        {\n",
    "            cleanup-code\n",
    "        }\n",
    "    }\n",
    ")'''"
   ]
  },
  {
   "cell_type": "code",
   "execution_count": null,
   "id": "8df0672d",
   "metadata": {},
   "outputs": [],
   "source": [
    "var = 'hi this should be a number'"
   ]
  },
  {
   "cell_type": "code",
   "execution_count": null,
   "id": "c91b2209",
   "metadata": {},
   "outputs": [],
   "source": [
    "#Failed attempt at error handling \n",
    "toTest <- function(var){\n",
    "result <- tryCatch\n",
    "    (\n",
    "        {\n",
    "            {\n",
    "                as.numeric(var)\n",
    "                print(var)\n",
    "            }\n",
    "            error = function(e)\n",
    "            {\n",
    "            print(paste('e: ', e))\n",
    "            }\n",
    "            warining = function(w)\n",
    "            {\n",
    "            print(paste('Warining: ', w))\n",
    "            }\n",
    "            finally =\n",
    "                print(paste('done'))\n",
    "            }\n",
    "\n",
    "        )\n",
    "        return(result)\n",
    "    }    "
   ]
  },
  {
   "cell_type": "code",
   "execution_count": 11,
   "id": "448155f6",
   "metadata": {},
   "outputs": [
    {
     "data": {
      "text/html": [
       "TRUE"
      ],
      "text/latex": [
       "TRUE"
      ],
      "text/markdown": [
       "TRUE"
      ],
      "text/plain": [
       "[1] TRUE"
      ]
     },
     "metadata": {},
     "output_type": "display_data"
    },
    {
     "data": {
      "text/html": [
       "FALSE"
      ],
      "text/latex": [
       "FALSE"
      ],
      "text/markdown": [
       "FALSE"
      ],
      "text/plain": [
       "[1] FALSE"
      ]
     },
     "metadata": {},
     "output_type": "display_data"
    }
   ],
   "source": [
    "#Comparisons happen similarly to other languages with == operator\n",
    "1==1\n",
    "'a'=='b'"
   ]
  },
  {
   "cell_type": "code",
   "execution_count": 16,
   "id": "8ff837f0",
   "metadata": {},
   "outputs": [
    {
     "data": {
      "text/html": [
       "<ol class=list-inline>\n",
       "\t<li>1</li>\n",
       "\t<li>2</li>\n",
       "\t<li>3</li>\n",
       "\t<li>4</li>\n",
       "\t<li>5</li>\n",
       "\t<li>6</li>\n",
       "\t<li>7.1</li>\n",
       "\t<li>192729872</li>\n",
       "</ol>\n"
      ],
      "text/latex": [
       "\\begin{enumerate*}\n",
       "\\item 1\n",
       "\\item 2\n",
       "\\item 3\n",
       "\\item 4\n",
       "\\item 5\n",
       "\\item 6\n",
       "\\item 7.1\n",
       "\\item 192729872\n",
       "\\end{enumerate*}\n"
      ],
      "text/markdown": [
       "1. 1\n",
       "2. 2\n",
       "3. 3\n",
       "4. 4\n",
       "5. 5\n",
       "6. 6\n",
       "7. 7.1\n",
       "8. 192729872\n",
       "\n",
       "\n"
      ],
      "text/plain": [
       "[1]         1.0         2.0         3.0         4.0         5.0         6.0\n",
       "[7]         7.1 192729872.0"
      ]
     },
     "metadata": {},
     "output_type": "display_data"
    },
    {
     "data": {
      "text/html": [
       "<ol class=list-inline>\n",
       "\t<li>5</li>\n",
       "\t<li>10</li>\n",
       "\t<li>15</li>\n",
       "\t<li>20</li>\n",
       "\t<li>25</li>\n",
       "\t<li>30</li>\n",
       "\t<li>35.5</li>\n",
       "\t<li>963649360</li>\n",
       "</ol>\n"
      ],
      "text/latex": [
       "\\begin{enumerate*}\n",
       "\\item 5\n",
       "\\item 10\n",
       "\\item 15\n",
       "\\item 20\n",
       "\\item 25\n",
       "\\item 30\n",
       "\\item 35.5\n",
       "\\item 963649360\n",
       "\\end{enumerate*}\n"
      ],
      "text/markdown": [
       "1. 5\n",
       "2. 10\n",
       "3. 15\n",
       "4. 20\n",
       "5. 25\n",
       "6. 30\n",
       "7. 35.5\n",
       "8. 963649360\n",
       "\n",
       "\n"
      ],
      "text/plain": [
       "[1]         5.0        10.0        15.0        20.0        25.0        30.0\n",
       "[7]        35.5 963649360.0"
      ]
     },
     "metadata": {},
     "output_type": "display_data"
    },
    {
     "data": {
      "text/html": [
       "<ol class=list-inline>\n",
       "\t<li>0.5</li>\n",
       "\t<li>1</li>\n",
       "\t<li>1.5</li>\n",
       "\t<li>2</li>\n",
       "\t<li>2.5</li>\n",
       "\t<li>3</li>\n",
       "\t<li>3.55</li>\n",
       "\t<li>96364936</li>\n",
       "</ol>\n"
      ],
      "text/latex": [
       "\\begin{enumerate*}\n",
       "\\item 0.5\n",
       "\\item 1\n",
       "\\item 1.5\n",
       "\\item 2\n",
       "\\item 2.5\n",
       "\\item 3\n",
       "\\item 3.55\n",
       "\\item 96364936\n",
       "\\end{enumerate*}\n"
      ],
      "text/markdown": [
       "1. 0.5\n",
       "2. 1\n",
       "3. 1.5\n",
       "4. 2\n",
       "5. 2.5\n",
       "6. 3\n",
       "7. 3.55\n",
       "8. 96364936\n",
       "\n",
       "\n"
      ],
      "text/plain": [
       "[1]        0.50        1.00        1.50        2.00        2.50        3.00\n",
       "[7]        3.55 96364936.00"
      ]
     },
     "metadata": {},
     "output_type": "display_data"
    },
    {
     "data": {
      "text/html": [
       "1"
      ],
      "text/latex": [
       "1"
      ],
      "text/markdown": [
       "1"
      ],
      "text/plain": [
       "[1] 1"
      ]
     },
     "metadata": {},
     "output_type": "display_data"
    }
   ],
   "source": [
    "#Creating a list and vectors\n",
    "listOfNumbers = c(1, 2, 3, 4, 5, 6, 7.1, 192729872)\n",
    "listOfNumbers\n",
    "\n",
    "#Then we manipulate everything in this list at once without having a for loop \n",
    "5 * listOfNumbers\n",
    "listOfNumbers / 2\n",
    "\n",
    "#Like in Python we can also pull things from the list by specifying the index \n",
    "#WEIRDLY AND IMPORTANTLY THE INDICES START AT 1?!\n",
    "listOfNumbers[1]"
   ]
  },
  {
   "cell_type": "code",
   "execution_count": null,
   "id": "5dc91760",
   "metadata": {},
   "outputs": [],
   "source": []
  }
 ],
 "metadata": {
  "kernelspec": {
   "display_name": "R",
   "language": "R",
   "name": "ir"
  },
  "language_info": {
   "codemirror_mode": "r",
   "file_extension": ".r",
   "mimetype": "text/x-r-source",
   "name": "R",
   "pygments_lexer": "r",
   "version": "3.6.1"
  }
 },
 "nbformat": 4,
 "nbformat_minor": 5
}
