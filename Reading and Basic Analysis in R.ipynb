{
 "cells": [
  {
   "cell_type": "markdown",
   "id": "5b5174ae",
   "metadata": {},
   "source": [
    "# Reading in Files and Basic Analysis in R<br>\n",
    "\n",
    "This notebook will be more serious than the last and look in more detail at using R in a practial way for data analysis. I am following this https://www.kaggle.com/rtatman/getting-started-in-r-summarize-data/ along. So this is not my own work, just documenting my learning process. "
   ]
  },
  {
   "cell_type": "code",
   "execution_count": 1,
   "id": "374f1fec",
   "metadata": {},
   "outputs": [
    {
     "name": "stderr",
     "output_type": "stream",
     "text": [
      "Registered S3 methods overwritten by 'ggplot2':\n",
      "  method         from \n",
      "  [.quosures     rlang\n",
      "  c.quosures     rlang\n",
      "  print.quosures rlang\n",
      "Registered S3 method overwritten by 'rvest':\n",
      "  method            from\n",
      "  read_xml.response xml2\n",
      "-- Attaching packages --------------------------------------- tidyverse 1.2.1 --\n",
      "v ggplot2 3.1.1       v purrr   0.3.2  \n",
      "v tibble  2.1.1       v dplyr   0.8.0.1\n",
      "v tidyr   0.8.3       v stringr 1.4.0  \n",
      "v readr   1.3.1       v forcats 0.4.0  \n",
      "-- Conflicts ------------------------------------------ tidyverse_conflicts() --\n",
      "x dplyr::filter() masks stats::filter()\n",
      "x dplyr::lag()    masks stats::lag()\n"
     ]
    }
   ],
   "source": [
    "#Import Libraries\n",
    "library(tidyverse)\n",
    "library(ggplot2)"
   ]
  },
  {
   "cell_type": "code",
   "execution_count": 2,
   "id": "ee8f2a64",
   "metadata": {},
   "outputs": [
    {
     "name": "stderr",
     "output_type": "stream",
     "text": [
      "Parsed with column specification:\n",
      "cols(\n",
      "  `Company \n",
      "(Maker-if known)` = col_character(),\n",
      "  `Specific Bean Origin\n",
      "or Bar Name` = col_character(),\n",
      "  REF = col_double(),\n",
      "  `Review\n",
      "Date` = col_double(),\n",
      "  `Cocoa\n",
      "Percent` = col_character(),\n",
      "  `Company\n",
      "Location` = col_character(),\n",
      "  Rating = col_double(),\n",
      "  `Bean\n",
      "Type` = col_character(),\n",
      "  `Broad Bean\n",
      "Origin` = col_character()\n",
      ")\n"
     ]
    },
    {
     "data": {
      "text/html": [
       "<table>\n",
       "<thead><tr><th scope=col>Company...Maker.if.known.</th><th scope=col>Specific.Bean.Origin.or.Bar.Name</th><th scope=col>REF</th><th scope=col>Review.Date</th><th scope=col>Cocoa.Percent</th><th scope=col>Company.Location</th><th scope=col>Rating</th><th scope=col>Bean.Type</th><th scope=col>Broad.Bean.Origin</th></tr></thead>\n",
       "<tbody>\n",
       "\t<tr><td>A. Morin   </td><td>Agua Grande</td><td>1876       </td><td>2016       </td><td>63%        </td><td>France     </td><td>3.75       </td><td>           </td><td>Sao Tome   </td></tr>\n",
       "\t<tr><td>A. Morin   </td><td>Kpime      </td><td>1676       </td><td>2015       </td><td>70%        </td><td>France     </td><td>2.75       </td><td>           </td><td>Togo       </td></tr>\n",
       "\t<tr><td>A. Morin   </td><td>Atsane     </td><td>1676       </td><td>2015       </td><td>70%        </td><td>France     </td><td>3.00       </td><td>           </td><td>Togo       </td></tr>\n",
       "\t<tr><td>A. Morin   </td><td>Akata      </td><td>1680       </td><td>2015       </td><td>70%        </td><td>France     </td><td>3.50       </td><td>           </td><td>Togo       </td></tr>\n",
       "\t<tr><td>A. Morin   </td><td>Quilla     </td><td>1704       </td><td>2015       </td><td>70%        </td><td>France     </td><td>3.50       </td><td>           </td><td>Peru       </td></tr>\n",
       "</tbody>\n",
       "</table>\n"
      ],
      "text/latex": [
       "\\begin{tabular}{r|lllllllll}\n",
       " Company...Maker.if.known. & Specific.Bean.Origin.or.Bar.Name & REF & Review.Date & Cocoa.Percent & Company.Location & Rating & Bean.Type & Broad.Bean.Origin\\\\\n",
       "\\hline\n",
       "\t A. Morin    & Agua Grande & 1876        & 2016        & 63\\%       & France      & 3.75        &             & Sao Tome   \\\\\n",
       "\t A. Morin    & Kpime       & 1676        & 2015        & 70\\%       & France      & 2.75        &             & Togo       \\\\\n",
       "\t A. Morin    & Atsane      & 1676        & 2015        & 70\\%       & France      & 3.00        &             & Togo       \\\\\n",
       "\t A. Morin    & Akata       & 1680        & 2015        & 70\\%       & France      & 3.50        &             & Togo       \\\\\n",
       "\t A. Morin    & Quilla      & 1704        & 2015        & 70\\%       & France      & 3.50        &             & Peru       \\\\\n",
       "\\end{tabular}\n"
      ],
      "text/markdown": [
       "\n",
       "| Company...Maker.if.known. | Specific.Bean.Origin.or.Bar.Name | REF | Review.Date | Cocoa.Percent | Company.Location | Rating | Bean.Type | Broad.Bean.Origin |\n",
       "|---|---|---|---|---|---|---|---|---|\n",
       "| A. Morin    | Agua Grande | 1876        | 2016        | 63%         | France      | 3.75        |             | Sao Tome    |\n",
       "| A. Morin    | Kpime       | 1676        | 2015        | 70%         | France      | 2.75        |             | Togo        |\n",
       "| A. Morin    | Atsane      | 1676        | 2015        | 70%         | France      | 3.00        |             | Togo        |\n",
       "| A. Morin    | Akata       | 1680        | 2015        | 70%         | France      | 3.50        |             | Togo        |\n",
       "| A. Morin    | Quilla      | 1704        | 2015        | 70%         | France      | 3.50        |             | Peru        |\n",
       "\n"
      ],
      "text/plain": [
       "  Company...Maker.if.known. Specific.Bean.Origin.or.Bar.Name REF  Review.Date\n",
       "1 A. Morin                  Agua Grande                      1876 2016       \n",
       "2 A. Morin                  Kpime                            1676 2015       \n",
       "3 A. Morin                  Atsane                           1676 2015       \n",
       "4 A. Morin                  Akata                            1680 2015       \n",
       "5 A. Morin                  Quilla                           1704 2015       \n",
       "  Cocoa.Percent Company.Location Rating Bean.Type Broad.Bean.Origin\n",
       "1 63%           France           3.75             Sao Tome         \n",
       "2 70%           France           2.75             Togo             \n",
       "3 70%           France           3.00             Togo             \n",
       "4 70%           France           3.50             Togo             \n",
       "5 70%           France           3.50             Peru             "
      ]
     },
     "metadata": {},
     "output_type": "display_data"
    },
    {
     "data": {
      "text/html": [
       "<table>\n",
       "<thead><tr><th scope=col>Company...Maker.if.known.</th><th scope=col>Specific.Bean.Origin.or.Bar.Name</th><th scope=col>REF</th><th scope=col>Review.Date</th><th scope=col>Cocoa.Percent</th><th scope=col>Company.Location</th><th scope=col>Rating</th><th scope=col>Bean.Type</th><th scope=col>Broad.Bean.Origin</th></tr></thead>\n",
       "<tbody>\n",
       "\t<tr><td>Zotter            </td><td>Peru              </td><td>647               </td><td>2011              </td><td>70%               </td><td>Austria           </td><td>3.75              </td><td>                  </td><td>Peru              </td></tr>\n",
       "\t<tr><td>Zotter            </td><td>Congo             </td><td>749               </td><td>2011              </td><td>65%               </td><td>Austria           </td><td>3.00              </td><td>Forastero         </td><td>Congo             </td></tr>\n",
       "\t<tr><td>Zotter            </td><td>Kerala State      </td><td>749               </td><td>2011              </td><td>65%               </td><td>Austria           </td><td>3.50              </td><td>Forastero         </td><td>India             </td></tr>\n",
       "\t<tr><td>Zotter            </td><td>Kerala State      </td><td>781               </td><td>2011              </td><td>62%               </td><td>Austria           </td><td>3.25              </td><td>                  </td><td>India             </td></tr>\n",
       "\t<tr><td>Zotter            </td><td>Brazil, Mitzi Blue</td><td>486               </td><td>2010              </td><td>65%               </td><td>Austria           </td><td>3.00              </td><td>                  </td><td>Brazil            </td></tr>\n",
       "</tbody>\n",
       "</table>\n"
      ],
      "text/latex": [
       "\\begin{tabular}{r|lllllllll}\n",
       " Company...Maker.if.known. & Specific.Bean.Origin.or.Bar.Name & REF & Review.Date & Cocoa.Percent & Company.Location & Rating & Bean.Type & Broad.Bean.Origin\\\\\n",
       "\\hline\n",
       "\t Zotter             & Peru               & 647                & 2011               & 70\\%              & Austria            & 3.75               &                    & Peru              \\\\\n",
       "\t Zotter             & Congo              & 749                & 2011               & 65\\%              & Austria            & 3.00               & Forastero          & Congo             \\\\\n",
       "\t Zotter             & Kerala State       & 749                & 2011               & 65\\%              & Austria            & 3.50               & Forastero          & India             \\\\\n",
       "\t Zotter             & Kerala State       & 781                & 2011               & 62\\%              & Austria            & 3.25               &                    & India             \\\\\n",
       "\t Zotter             & Brazil, Mitzi Blue & 486                & 2010               & 65\\%              & Austria            & 3.00               &                    & Brazil            \\\\\n",
       "\\end{tabular}\n"
      ],
      "text/markdown": [
       "\n",
       "| Company...Maker.if.known. | Specific.Bean.Origin.or.Bar.Name | REF | Review.Date | Cocoa.Percent | Company.Location | Rating | Bean.Type | Broad.Bean.Origin |\n",
       "|---|---|---|---|---|---|---|---|---|\n",
       "| Zotter             | Peru               | 647                | 2011               | 70%                | Austria            | 3.75               |                    | Peru               |\n",
       "| Zotter             | Congo              | 749                | 2011               | 65%                | Austria            | 3.00               | Forastero          | Congo              |\n",
       "| Zotter             | Kerala State       | 749                | 2011               | 65%                | Austria            | 3.50               | Forastero          | India              |\n",
       "| Zotter             | Kerala State       | 781                | 2011               | 62%                | Austria            | 3.25               |                    | India              |\n",
       "| Zotter             | Brazil, Mitzi Blue | 486                | 2010               | 65%                | Austria            | 3.00               |                    | Brazil             |\n",
       "\n"
      ],
      "text/plain": [
       "  Company...Maker.if.known. Specific.Bean.Origin.or.Bar.Name REF Review.Date\n",
       "1 Zotter                    Peru                             647 2011       \n",
       "2 Zotter                    Congo                            749 2011       \n",
       "3 Zotter                    Kerala State                     749 2011       \n",
       "4 Zotter                    Kerala State                     781 2011       \n",
       "5 Zotter                    Brazil, Mitzi Blue               486 2010       \n",
       "  Cocoa.Percent Company.Location Rating Bean.Type Broad.Bean.Origin\n",
       "1 70%           Austria          3.75             Peru             \n",
       "2 65%           Austria          3.00   Forastero Congo            \n",
       "3 65%           Austria          3.50   Forastero India            \n",
       "4 62%           Austria          3.25             India            \n",
       "5 65%           Austria          3.00             Brazil           "
      ]
     },
     "metadata": {},
     "output_type": "display_data"
    }
   ],
   "source": [
    "#Read in the file \n",
    "chocolateData <- read_csv('flavors_of_cacao.csv')\n",
    "\n",
    "#Some of the col names have spaces, lets correct this \n",
    "names(chocolateData) <- make.names(names(chocolateData), unique = TRUE)\n",
    "\n",
    "#Let's take a look at the first and last few lines of the data \n",
    "head(chocolateData, 5)\n",
    "tail(chocolateData, 5)"
   ]
  },
  {
   "cell_type": "code",
   "execution_count": 3,
   "id": "248f891c",
   "metadata": {},
   "outputs": [
    {
     "data": {
      "text/html": [
       "<table>\n",
       "<thead><tr><th scope=col>Company...Maker.if.known.</th></tr></thead>\n",
       "<tbody>\n",
       "\t<tr><td>A. Morin</td></tr>\n",
       "</tbody>\n",
       "</table>\n"
      ],
      "text/latex": [
       "\\begin{tabular}{r|l}\n",
       " Company...Maker.if.known.\\\\\n",
       "\\hline\n",
       "\t A. Morin\\\\\n",
       "\\end{tabular}\n"
      ],
      "text/markdown": [
       "\n",
       "| Company...Maker.if.known. |\n",
       "|---|\n",
       "| A. Morin |\n",
       "\n"
      ],
      "text/plain": [
       "  Company...Maker.if.known.\n",
       "1 A. Morin                 "
      ]
     },
     "metadata": {},
     "output_type": "display_data"
    },
    {
     "data": {
      "text/html": [
       "<table>\n",
       "<thead><tr><th scope=col>Cocoa.Percent</th></tr></thead>\n",
       "<tbody>\n",
       "\t<tr><td>63%</td></tr>\n",
       "\t<tr><td>70%</td></tr>\n",
       "\t<tr><td>70%</td></tr>\n",
       "</tbody>\n",
       "</table>\n"
      ],
      "text/latex": [
       "\\begin{tabular}{r|l}\n",
       " Cocoa.Percent\\\\\n",
       "\\hline\n",
       "\t 63\\%\\\\\n",
       "\t 70\\%\\\\\n",
       "\t 70\\%\\\\\n",
       "\\end{tabular}\n"
      ],
      "text/markdown": [
       "\n",
       "| Cocoa.Percent |\n",
       "|---|\n",
       "| 63% |\n",
       "| 70% |\n",
       "| 70% |\n",
       "\n"
      ],
      "text/plain": [
       "  Cocoa.Percent\n",
       "1 63%          \n",
       "2 70%          \n",
       "3 70%          "
      ]
     },
     "metadata": {},
     "output_type": "display_data"
    },
    {
     "data": {
      "text/html": [
       "<table>\n",
       "<thead><tr><th scope=col>Company...Maker.if.known.</th><th scope=col>Specific.Bean.Origin.or.Bar.Name</th><th scope=col>REF</th><th scope=col>Review.Date</th><th scope=col>Cocoa.Percent</th><th scope=col>Company.Location</th><th scope=col>Rating</th><th scope=col>Bean.Type</th><th scope=col>Broad.Bean.Origin</th></tr></thead>\n",
       "<tbody>\n",
       "\t<tr><td>A. Morin</td><td>Piura   </td><td>1019    </td><td>2013    </td><td>70%     </td><td>France  </td><td>3.25    </td><td>        </td><td>Peru    </td></tr>\n",
       "</tbody>\n",
       "</table>\n"
      ],
      "text/latex": [
       "\\begin{tabular}{r|lllllllll}\n",
       " Company...Maker.if.known. & Specific.Bean.Origin.or.Bar.Name & REF & Review.Date & Cocoa.Percent & Company.Location & Rating & Bean.Type & Broad.Bean.Origin\\\\\n",
       "\\hline\n",
       "\t A. Morin & Piura    & 1019     & 2013     & 70\\%    & France   & 3.25     &          & Peru    \\\\\n",
       "\\end{tabular}\n"
      ],
      "text/markdown": [
       "\n",
       "| Company...Maker.if.known. | Specific.Bean.Origin.or.Bar.Name | REF | Review.Date | Cocoa.Percent | Company.Location | Rating | Bean.Type | Broad.Bean.Origin |\n",
       "|---|---|---|---|---|---|---|---|---|\n",
       "| A. Morin | Piura    | 1019     | 2013     | 70%      | France   | 3.25     |          | Peru     |\n",
       "\n"
      ],
      "text/plain": [
       "  Company...Maker.if.known. Specific.Bean.Origin.or.Bar.Name REF  Review.Date\n",
       "1 A. Morin                  Piura                            1019 2013       \n",
       "  Cocoa.Percent Company.Location Rating Bean.Type Broad.Bean.Origin\n",
       "1 70%           France           3.25             Peru             "
      ]
     },
     "metadata": {},
     "output_type": "display_data"
    }
   ],
   "source": [
    "#Now we want to try looking at a specific cell of data, so we must specify row and col position \n",
    "chocolateData[1, 1]\n",
    "#Maybe we want to see the first few entries of data but just the cocoa percent \n",
    "head(chocolateData[ , 5], 3)\n",
    "#Maybe we just want to see a specific row \n",
    "chocolateData[19, ]"
   ]
  },
  {
   "cell_type": "code",
   "execution_count": 4,
   "id": "ad7c2994",
   "metadata": {},
   "outputs": [],
   "source": [
    "#We can remove values at a specific location by adding a - in front of the index\n",
    "#And save it back to the data frame\n",
    "#chocolateData <- chocolateData[-1, ]\n",
    "#Check\n",
    "#chocolateData[1, ]"
   ]
  },
  {
   "cell_type": "markdown",
   "id": "d7f42505",
   "metadata": {},
   "source": [
    "So now we have looked at using a data frame and the basic functions next we need to do some basic cleaning on the data to ensure that it is usable (If you want to see a full data cleaning process please look at the census data analysis or the COVID-19 analysis)."
   ]
  },
  {
   "cell_type": "code",
   "execution_count": 5,
   "id": "8b382a83",
   "metadata": {},
   "outputs": [],
   "source": [
    "#Remove any whitespace from the column names in the data \n",
    "#NOTE: I know '' is bad practice, it is a habit I need to break \n",
    "names(chocolateData) <- gsub('[[:space:]+]', '_', names(chocolateData))"
   ]
  },
  {
   "cell_type": "code",
   "execution_count": 6,
   "id": "60179ec9",
   "metadata": {},
   "outputs": [
    {
     "name": "stdout",
     "output_type": "stream",
     "text": [
      "Classes 'spec_tbl_df', 'tbl_df', 'tbl' and 'data.frame':\t1795 obs. of  9 variables:\n",
      " $ Company...Maker.if.known.       : chr  \"A. Morin\" \"A. Morin\" \"A. Morin\" \"A. Morin\" ...\n",
      " $ Specific.Bean.Origin.or.Bar.Name: chr  \"Agua Grande\" \"Kpime\" \"Atsane\" \"Akata\" ...\n",
      " $ REF                             : num  1876 1676 1676 1680 1704 ...\n",
      " $ Review.Date                     : num  2016 2015 2015 2015 2015 ...\n",
      " $ Cocoa.Percent                   : chr  \"63%\" \"70%\" \"70%\" \"70%\" ...\n",
      " $ Company.Location                : chr  \"France\" \"France\" \"France\" \"France\" ...\n",
      " $ Rating                          : num  3.75 2.75 3 3.5 3.5 2.75 3.5 3.5 3.75 4 ...\n",
      " $ Bean.Type                       : chr  \" \" \" \" \" \" \" \" ...\n",
      " $ Broad.Bean.Origin               : chr  \"Sao Tome\" \"Togo\" \"Togo\" \"Togo\" ...\n",
      " - attr(*, \"spec\")=\n",
      "  .. cols(\n",
      "  ..   `Company \n",
      "  .. (Maker-if known)` = col_character(),\n",
      "  ..   `Specific Bean Origin\n",
      "  .. or Bar Name` = col_character(),\n",
      "  ..   REF = col_double(),\n",
      "  ..   `Review\n",
      "  .. Date` = col_double(),\n",
      "  ..   `Cocoa\n",
      "  .. Percent` = col_character(),\n",
      "  ..   `Company\n",
      "  .. Location` = col_character(),\n",
      "  ..   Rating = col_double(),\n",
      "  ..   `Bean\n",
      "  .. Type` = col_character(),\n",
      "  ..   `Broad Bean\n",
      "  .. Origin` = col_character()\n",
      "  .. )\n"
     ]
    },
    {
     "data": {
      "text/html": [
       "<ol class=list-inline>\n",
       "\t<li>3.75</li>\n",
       "\t<li>2.75</li>\n",
       "\t<li>3</li>\n",
       "\t<li>3.5</li>\n",
       "\t<li>3.5</li>\n",
       "\t<li>2.75</li>\n",
       "</ol>\n"
      ],
      "text/latex": [
       "\\begin{enumerate*}\n",
       "\\item 3.75\n",
       "\\item 2.75\n",
       "\\item 3\n",
       "\\item 3.5\n",
       "\\item 3.5\n",
       "\\item 2.75\n",
       "\\end{enumerate*}\n"
      ],
      "text/markdown": [
       "1. 3.75\n",
       "2. 2.75\n",
       "3. 3\n",
       "4. 3.5\n",
       "5. 3.5\n",
       "6. 2.75\n",
       "\n",
       "\n"
      ],
      "text/plain": [
       "[1] 3.75 2.75 3.00 3.50 3.50 2.75"
      ]
     },
     "metadata": {},
     "output_type": "display_data"
    },
    {
     "name": "stderr",
     "output_type": "stream",
     "text": [
      "Parsed with column specification:\n",
      "cols(\n",
      "  Company...Maker.if.known. = col_character(),\n",
      "  Specific.Bean.Origin.or.Bar.Name = col_character(),\n",
      "  Cocoa.Percent = col_character(),\n",
      "  Company.Location = col_character(),\n",
      "  Bean.Type = col_character(),\n",
      "  Broad.Bean.Origin = col_character()\n",
      ")\n"
     ]
    }
   ],
   "source": [
    "#So checking the data types are what you are expecting is always a good start \n",
    "str(chocolateData)\n",
    "# $ is weird and lets us specify the column in a data frame when used like:\n",
    "head(chocolateData$Rating)\n",
    "#tidyverse has a function for automatically converting data types, which saves a lot of programming \n",
    "chocolateData <- type_convert(chocolateData)"
   ]
  },
  {
   "cell_type": "code",
   "execution_count": 7,
   "id": "b7ad2ed0",
   "metadata": {
    "scrolled": true
   },
   "outputs": [
    {
     "name": "stderr",
     "output_type": "stream",
     "text": [
      "Parsed with column specification:\n",
      "cols(\n",
      "  Company...Maker.if.known. = col_character(),\n",
      "  Specific.Bean.Origin.or.Bar.Name = col_character(),\n",
      "  Cocoa.Percent = col_double(),\n",
      "  Company.Location = col_character(),\n",
      "  Bean.Type = col_character(),\n",
      "  Broad.Bean.Origin = col_character()\n",
      ")\n"
     ]
    },
    {
     "name": "stdout",
     "output_type": "stream",
     "text": [
      "Classes 'spec_tbl_df', 'tbl_df', 'tbl' and 'data.frame':\t1795 obs. of  9 variables:\n",
      " $ Company...Maker.if.known.       : chr  \"A. Morin\" \"A. Morin\" \"A. Morin\" \"A. Morin\" ...\n",
      " $ Specific.Bean.Origin.or.Bar.Name: chr  \"Agua Grande\" \"Kpime\" \"Atsane\" \"Akata\" ...\n",
      " $ REF                             : num  1876 1676 1676 1680 1704 ...\n",
      " $ Review.Date                     : num  2016 2015 2015 2015 2015 ...\n",
      " $ Cocoa.Percent                   : num  63 70 70 70 70 70 70 70 70 70 ...\n",
      " $ Company.Location                : chr  \"France\" \"France\" \"France\" \"France\" ...\n",
      " $ Rating                          : num  3.75 2.75 3 3.5 3.5 2.75 3.5 3.5 3.75 4 ...\n",
      " $ Bean.Type                       : chr  \" \" \" \" \" \" \" \" ...\n",
      " $ Broad.Bean.Origin               : chr  \"Sao Tome\" \"Togo\" \"Togo\" \"Togo\" ...\n",
      " - attr(*, \"spec\")=\n",
      "  .. cols(\n",
      "  ..   `Company \n",
      "  .. (Maker-if known)` = col_character(),\n",
      "  ..   `Specific Bean Origin\n",
      "  .. or Bar Name` = col_character(),\n",
      "  ..   REF = col_double(),\n",
      "  ..   `Review\n",
      "  .. Date` = col_double(),\n",
      "  ..   `Cocoa\n",
      "  .. Percent` = col_character(),\n",
      "  ..   `Company\n",
      "  .. Location` = col_character(),\n",
      "  ..   Rating = col_double(),\n",
      "  ..   `Bean\n",
      "  .. Type` = col_character(),\n",
      "  ..   `Broad Bean\n",
      "  .. Origin` = col_character()\n",
      "  .. )\n"
     ]
    }
   ],
   "source": [
    "#Cocoa percent is still chr and not num, because it is a string containing % symbol\n",
    "#Let's remove that % and try and convert again \n",
    "chocolateData$Cocoa.Percent <- sapply(chocolateData$Cocoa.Percent, function(x) gsub(\"%\", \"\", x))\n",
    "\n",
    "chocolateData <- type_convert(chocolateData)\n",
    "#Cocoa percent is converted to a double, check just in case \n",
    "str(chocolateData)"
   ]
  },
  {
   "cell_type": "markdown",
   "id": "2723ab39",
   "metadata": {},
   "source": [
    "NOTE: This is a mostly pre-prepared dataset so we aren't having to handle missing data at this time. In reality I think I would do most of the cleaning in python and possibly use this R tidyverse type conversion. I am aware both Python and R can be ran in a notebook together however I have not tried it as of yet. "
   ]
  },
  {
   "cell_type": "code",
   "execution_count": 8,
   "id": "ecc7324a",
   "metadata": {},
   "outputs": [],
   "source": [
    "#Super handy, you can use ?function to find out what something does, saves the googling\n",
    "#?summary #from R\n",
    "#?summarise_all #From tidyverse lib"
   ]
  },
  {
   "cell_type": "code",
   "execution_count": 9,
   "id": "d0c9f923",
   "metadata": {},
   "outputs": [
    {
     "data": {
      "text/plain": [
       " Company...Maker.if.known. Specific.Bean.Origin.or.Bar.Name      REF      \n",
       " Length:1795               Length:1795                      Min.   :   5  \n",
       " Class :character          Class :character                 1st Qu.: 576  \n",
       " Mode  :character          Mode  :character                 Median :1069  \n",
       "                                                            Mean   :1036  \n",
       "                                                            3rd Qu.:1502  \n",
       "                                                            Max.   :1952  \n",
       "  Review.Date   Cocoa.Percent   Company.Location       Rating     \n",
       " Min.   :2006   Min.   : 42.0   Length:1795        Min.   :1.000  \n",
       " 1st Qu.:2010   1st Qu.: 70.0   Class :character   1st Qu.:2.875  \n",
       " Median :2013   Median : 70.0   Mode  :character   Median :3.250  \n",
       " Mean   :2012   Mean   : 71.7                      Mean   :3.186  \n",
       " 3rd Qu.:2015   3rd Qu.: 75.0                      3rd Qu.:3.500  \n",
       " Max.   :2017   Max.   :100.0                      Max.   :5.000  \n",
       "  Bean.Type         Broad.Bean.Origin \n",
       " Length:1795        Length:1795       \n",
       " Class :character   Class :character  \n",
       " Mode  :character   Mode  :character  \n",
       "                                      \n",
       "                                      \n",
       "                                      "
      ]
     },
     "metadata": {},
     "output_type": "display_data"
    },
    {
     "name": "stderr",
     "output_type": "stream",
     "text": [
      "Warning message:\n",
      "\"funs() is soft deprecated as of dplyr 0.8.0\n",
      "please use list() instead\n",
      "\n",
      "# Before:\n",
      "funs(name = f(.)\n",
      "\n",
      "# After: \n",
      "list(name = ~f(.))\n",
      "This warning is displayed once per session.\"Warning message in mean.default(Company...Maker.if.known.):\n",
      "\"argument is not numeric or logical: returning NA\"Warning message in mean.default(Specific.Bean.Origin.or.Bar.Name):\n",
      "\"argument is not numeric or logical: returning NA\"Warning message in mean.default(Company.Location):\n",
      "\"argument is not numeric or logical: returning NA\"Warning message in mean.default(Bean.Type):\n",
      "\"argument is not numeric or logical: returning NA\"Warning message in mean.default(Broad.Bean.Origin):\n",
      "\"argument is not numeric or logical: returning NA\""
     ]
    },
    {
     "data": {
      "text/html": [
       "<table>\n",
       "<thead><tr><th scope=col>Company...Maker.if.known.</th><th scope=col>Specific.Bean.Origin.or.Bar.Name</th><th scope=col>REF</th><th scope=col>Review.Date</th><th scope=col>Cocoa.Percent</th><th scope=col>Company.Location</th><th scope=col>Rating</th><th scope=col>Bean.Type</th><th scope=col>Broad.Bean.Origin</th></tr></thead>\n",
       "<tbody>\n",
       "\t<tr><td>NA      </td><td>NA      </td><td>1035.905</td><td>2012.325</td><td>71.69833</td><td>NA      </td><td>3.185933</td><td>NA      </td><td>NA      </td></tr>\n",
       "</tbody>\n",
       "</table>\n"
      ],
      "text/latex": [
       "\\begin{tabular}{r|lllllllll}\n",
       " Company...Maker.if.known. & Specific.Bean.Origin.or.Bar.Name & REF & Review.Date & Cocoa.Percent & Company.Location & Rating & Bean.Type & Broad.Bean.Origin\\\\\n",
       "\\hline\n",
       "\t NA       & NA       & 1035.905 & 2012.325 & 71.69833 & NA       & 3.185933 & NA       & NA      \\\\\n",
       "\\end{tabular}\n"
      ],
      "text/markdown": [
       "\n",
       "| Company...Maker.if.known. | Specific.Bean.Origin.or.Bar.Name | REF | Review.Date | Cocoa.Percent | Company.Location | Rating | Bean.Type | Broad.Bean.Origin |\n",
       "|---|---|---|---|---|---|---|---|---|\n",
       "| NA       | NA       | 1035.905 | 2012.325 | 71.69833 | NA       | 3.185933 | NA       | NA       |\n",
       "\n"
      ],
      "text/plain": [
       "  Company...Maker.if.known. Specific.Bean.Origin.or.Bar.Name REF     \n",
       "1 NA                        NA                               1035.905\n",
       "  Review.Date Cocoa.Percent Company.Location Rating   Bean.Type\n",
       "1 2012.325    71.69833      NA               3.185933 NA       \n",
       "  Broad.Bean.Origin\n",
       "1 NA               "
      ]
     },
     "metadata": {},
     "output_type": "display_data"
    }
   ],
   "source": [
    "summary(chocolateData) #Shows the avarages, min, max and quater way points in the data \n",
    "summarise_all(chocolateData, funs(mean)) #Shows the mean of the whole table(numeric vals)"
   ]
  },
  {
   "cell_type": "code",
   "execution_count": 10,
   "id": "fc600ec2",
   "metadata": {},
   "outputs": [
    {
     "data": {
      "text/html": [
       "<table>\n",
       "<thead><tr><th scope=col>averageRating</th><th scope=col>sdRating</th></tr></thead>\n",
       "<tbody>\n",
       "\t<tr><td>3.185933 </td><td>0.4780624</td></tr>\n",
       "</tbody>\n",
       "</table>\n"
      ],
      "text/latex": [
       "\\begin{tabular}{r|ll}\n",
       " averageRating & sdRating\\\\\n",
       "\\hline\n",
       "\t 3.185933  & 0.4780624\\\\\n",
       "\\end{tabular}\n"
      ],
      "text/markdown": [
       "\n",
       "| averageRating | sdRating |\n",
       "|---|---|\n",
       "| 3.185933  | 0.4780624 |\n",
       "\n"
      ],
      "text/plain": [
       "  averageRating sdRating \n",
       "1 3.185933      0.4780624"
      ]
     },
     "metadata": {},
     "output_type": "display_data"
    }
   ],
   "source": [
    "#Add a mean and sd for the rating columns \n",
    "chocolateData %>%\n",
    "    summarise(averageRating = mean(Rating), \n",
    "             sdRating = sd(Rating))"
   ]
  },
  {
   "cell_type": "code",
   "execution_count": 11,
   "id": "d3a8bc5e",
   "metadata": {},
   "outputs": [
    {
     "data": {
      "text/html": [
       "<table>\n",
       "<thead><tr><th scope=col>Review.Date</th><th scope=col>averageRating</th><th scope=col>sdRating</th></tr></thead>\n",
       "<tbody>\n",
       "\t<tr><td>2006     </td><td>3.125000 </td><td>0.7691224</td></tr>\n",
       "\t<tr><td>2007     </td><td>3.162338 </td><td>0.6998193</td></tr>\n",
       "\t<tr><td>2008     </td><td>2.994624 </td><td>0.5442118</td></tr>\n",
       "\t<tr><td>2009     </td><td>3.073171 </td><td>0.4591195</td></tr>\n",
       "\t<tr><td>2010     </td><td>3.148649 </td><td>0.4663426</td></tr>\n",
       "\t<tr><td>2011     </td><td>3.256061 </td><td>0.4899536</td></tr>\n",
       "\t<tr><td>2012     </td><td>3.178205 </td><td>0.4835962</td></tr>\n",
       "\t<tr><td>2013     </td><td>3.197011 </td><td>0.4461178</td></tr>\n",
       "\t<tr><td>2014     </td><td>3.189271 </td><td>0.4148615</td></tr>\n",
       "\t<tr><td>2015     </td><td>3.246491 </td><td>0.3810960</td></tr>\n",
       "\t<tr><td>2016     </td><td>3.226027 </td><td>0.4205809</td></tr>\n",
       "\t<tr><td>2017     </td><td>3.312500 </td><td>0.3317444</td></tr>\n",
       "</tbody>\n",
       "</table>\n"
      ],
      "text/latex": [
       "\\begin{tabular}{r|lll}\n",
       " Review.Date & averageRating & sdRating\\\\\n",
       "\\hline\n",
       "\t 2006      & 3.125000  & 0.7691224\\\\\n",
       "\t 2007      & 3.162338  & 0.6998193\\\\\n",
       "\t 2008      & 2.994624  & 0.5442118\\\\\n",
       "\t 2009      & 3.073171  & 0.4591195\\\\\n",
       "\t 2010      & 3.148649  & 0.4663426\\\\\n",
       "\t 2011      & 3.256061  & 0.4899536\\\\\n",
       "\t 2012      & 3.178205  & 0.4835962\\\\\n",
       "\t 2013      & 3.197011  & 0.4461178\\\\\n",
       "\t 2014      & 3.189271  & 0.4148615\\\\\n",
       "\t 2015      & 3.246491  & 0.3810960\\\\\n",
       "\t 2016      & 3.226027  & 0.4205809\\\\\n",
       "\t 2017      & 3.312500  & 0.3317444\\\\\n",
       "\\end{tabular}\n"
      ],
      "text/markdown": [
       "\n",
       "| Review.Date | averageRating | sdRating |\n",
       "|---|---|---|\n",
       "| 2006      | 3.125000  | 0.7691224 |\n",
       "| 2007      | 3.162338  | 0.6998193 |\n",
       "| 2008      | 2.994624  | 0.5442118 |\n",
       "| 2009      | 3.073171  | 0.4591195 |\n",
       "| 2010      | 3.148649  | 0.4663426 |\n",
       "| 2011      | 3.256061  | 0.4899536 |\n",
       "| 2012      | 3.178205  | 0.4835962 |\n",
       "| 2013      | 3.197011  | 0.4461178 |\n",
       "| 2014      | 3.189271  | 0.4148615 |\n",
       "| 2015      | 3.246491  | 0.3810960 |\n",
       "| 2016      | 3.226027  | 0.4205809 |\n",
       "| 2017      | 3.312500  | 0.3317444 |\n",
       "\n"
      ],
      "text/plain": [
       "   Review.Date averageRating sdRating \n",
       "1  2006        3.125000      0.7691224\n",
       "2  2007        3.162338      0.6998193\n",
       "3  2008        2.994624      0.5442118\n",
       "4  2009        3.073171      0.4591195\n",
       "5  2010        3.148649      0.4663426\n",
       "6  2011        3.256061      0.4899536\n",
       "7  2012        3.178205      0.4835962\n",
       "8  2013        3.197011      0.4461178\n",
       "9  2014        3.189271      0.4148615\n",
       "10 2015        3.246491      0.3810960\n",
       "11 2016        3.226027      0.4205809\n",
       "12 2017        3.312500      0.3317444"
      ]
     },
     "metadata": {},
     "output_type": "display_data"
    }
   ],
   "source": [
    "#Return avg and sd of rating by year \n",
    "chocolateData %>%\n",
    "    group_by(Review.Date) %>%\n",
    "    summarise(averageRating = mean(Rating), \n",
    "             sdRating = sd(Rating))"
   ]
  },
  {
   "cell_type": "markdown",
   "id": "13900a95",
   "metadata": {},
   "source": [
    "Now we want to make some graphs for the data. this will be done using ggplot 2 lib. "
   ]
  },
  {
   "cell_type": "code",
   "execution_count": 12,
   "id": "7b427f04",
   "metadata": {},
   "outputs": [
    {
     "data": {
      "image/png": "[encoded data removed]",
      "text/plain": [
       "plot without title"
      ]
     },
     "metadata": {},
     "output_type": "display_data"
    }
   ],
   "source": [
    "#ggplot specifes the df and aes, geom point adds data, geom jitter for legibility, geom smooth for clarity\n",
    "ggplot(chocolateData, aes(x = Review.Date, y = Rating)) + geom_point() + geom_jitter() + geom_smooth(method = 'lm')"
   ]
  },
  {
   "cell_type": "code",
   "execution_count": 13,
   "id": "449e8934",
   "metadata": {},
   "outputs": [
    {
     "data": {
      "image/png": "[encoded data removed]",
      "text/plain": [
       "plot without title"
      ]
     },
     "metadata": {},
     "output_type": "display_data"
    }
   ],
   "source": [
    "#We can now use the above but add cocoa percent to see if that has an impact on the rating \n",
    "chocPlot <- ggplot(chocolateData, aes(x = Review.Date, y = Rating, color = Cocoa.Percent))+\n",
    "geom_point()+\n",
    "geom_jitter()+\n",
    "geom_smooth(method = 'lm')\n",
    "\n",
    "chocPlot"
   ]
  },
  {
   "cell_type": "code",
   "execution_count": 14,
   "id": "47d37c80",
   "metadata": {},
   "outputs": [],
   "source": [
    "#We can save this plot now \n",
    "ggsave('ChocolateRatingByReviewDataCondCocoa.png', plot = chocPlot, height = 6, width = 10, units = 'in')"
   ]
  },
  {
   "cell_type": "code",
   "execution_count": 15,
   "id": "eaf09d35",
   "metadata": {},
   "outputs": [
    {
     "data": {
      "image/png": "[encoded data removed]",
      "text/plain": [
       "plot without title"
      ]
     },
     "metadata": {},
     "output_type": "display_data"
    }
   ],
   "source": [
    "#We can also plot summarized datasets\n",
    "avgRatingYear <- chocolateData %>%\n",
    "    group_by(Review.Date) %>%\n",
    "    summarise(averageRating = mean(Rating))\n",
    "#plot avg rating by yr\n",
    "chocPlot1 <- ggplot(avgRatingYear, aes(y = averageRating, x = Review.Date)) +\n",
    "geom_point()+\n",
    "geom_line()\n",
    "\n",
    "chocPlot1\n",
    "\n",
    "ggsave('ChocAvgRatingbyYear.png', plot = chocPlot1, height = 6, width = 10, units = 'in')"
   ]
  },
  {
   "cell_type": "code",
   "execution_count": 17,
   "id": "91e80038",
   "metadata": {
    "scrolled": true
   },
   "outputs": [
    {
     "data": {
      "image/png": "[encoded data removed]",
      "text/plain": [
       "plot without title"
      ]
     },
     "metadata": {},
     "output_type": "display_data"
    }
   ],
   "source": [
    "#Smooth the above so that it makes more sense \n",
    "avgRatingYear <- chocolateData %>%\n",
    "    group_by(Cocoa.Percent) %>%\n",
    "    summarise(averageRating = mean(Rating))\n",
    "\n",
    "chocPlot2 <- ggplot(avgRatingYear, aes(y = averageRating, x = Cocoa.Percent)) +\n",
    "geom_point()+\n",
    "geom_smooth(method = 'lm')\n",
    "chocPlot2\n",
    "\n",
    "ggsave('RatingbyCocoaPC2.png', plot = chocPlot2, height = 6, width = 10, units = 'in')"
   ]
  },
  {
   "cell_type": "code",
   "execution_count": null,
   "id": "485354e3",
   "metadata": {},
   "outputs": [],
   "source": []
  },
  {
   "cell_type": "code",
   "execution_count": null,
   "id": "e34316b9",
   "metadata": {},
   "outputs": [],
   "source": []
  }
 ],
 "metadata": {
  "kernelspec": {
   "display_name": "R",
   "language": "R",
   "name": "ir"
  },
  "language_info": {
   "codemirror_mode": "r",
   "file_extension": ".r",
   "mimetype": "text/x-r-source",
   "name": "R",
   "pygments_lexer": "r",
   "version": "3.6.1"
  }
 },
 "nbformat": 4,
 "nbformat_minor": 5
}
